{
 "cells": [
  {
   "cell_type": "code",
   "execution_count": 5,
   "metadata": {},
   "outputs": [
    {
     "data": {
      "application/vnd.jupyter.widget-view+json": {
       "model_id": "dbdde21e78d542ac9f445eb3e72e29cf",
       "version_major": 2,
       "version_minor": 0
      },
      "text/plain": [
       "Output()"
      ]
     },
     "metadata": {},
     "output_type": "display_data"
    },
    {
     "data": {
      "application/vnd.jupyter.widget-view+json": {
       "model_id": "c93c392f012f4bb38a9fc5a1b880129e",
       "version_major": 2,
       "version_minor": 0
      },
      "text/plain": [
       "Dropdown(description='City:', options=('Sydney', 'New York', 'London', 'Beijing'), value='Sydney')"
      ]
     },
     "metadata": {},
     "output_type": "display_data"
    },
    {
     "data": {
      "application/vnd.jupyter.widget-view+json": {
       "model_id": "69f9c290ad064c40aea7a6c46622df36",
       "version_major": 2,
       "version_minor": 0
      },
      "text/plain": [
       "Button(button_style='success', description='Update Weather', style=ButtonStyle())"
      ]
     },
     "metadata": {},
     "output_type": "display_data"
    },
    {
     "data": {
      "application/vnd.jupyter.widget-view+json": {
       "model_id": "1024b58a2d9548e98f3a649f56fc9c18",
       "version_major": 2,
       "version_minor": 0
      },
      "text/plain": [
       "Output()"
      ]
     },
     "metadata": {},
     "output_type": "display_data"
    }
   ],
   "source": [
    "import requests\n",
    "import pandas as pd\n",
    "import ipywidgets as widgets\n",
    "from IPython.display import display\n",
    "import matplotlib.pyplot as plt\n",
    "import numpy as np\n",
    "import weather_plots as wp \n",
    "\n",
    "class OpenWeatherAPI:\n",
    "    api_key =None\n",
    "    current_data = None\n",
    "    forecast_data = None\n",
    "    current_df = None\n",
    "    forecast_df = None\n",
    "    def __init__(self, api_key):\n",
    "        self.api_key = api_key\n",
    "    def request(self, url):\n",
    "        response = requests.get(url)\n",
    "        if response.status_code == 200:\n",
    "            return response.json()\n",
    "    def fetch_weather_data(self, location):\n",
    "        self.current_data = self.request(f\"http://api.openweathermap.org/data/2.5/weather?q={location}&appid={self.api_key}\")\n",
    "        self.current_df = {\n",
    "                \"Location\": self.current_data[\"name\"],\n",
    "                \"Temperature (C)\": self.current_data[\"main\"][\"temp\"]-273.15,\n",
    "                \"Humidity (%)\": self.current_data[\"main\"][\"humidity\"],\n",
    "                \"Weather\": self.current_data[\"weather\"][0][\"description\"]\n",
    "        }\n",
    "        self.current_df= pd.DataFrame([self.current_df])\n",
    "        self.forecast_data = self.request(f\"http://api.openweathermap.org/data/2.5/forecast?q={location}&appid={self.api_key}\")\n",
    "        temp = []\n",
    "        for entry in self.forecast_data[\"list\"]:\n",
    "            temp.append({\n",
    "                'Datetime': pd.to_datetime(entry['dt'], unit='s'),\n",
    "                'Temperature (C)': entry['main']['temp'] - 273.15,\n",
    "                'Humidity (%)': entry['main']['humidity'],\n",
    "                'Wind Speed (m/s)': entry['wind']['speed'],\n",
    "                'Weather': entry['weather'][0]['description']\n",
    "            })\n",
    "        self.forecast_df = pd.DataFrame(temp)\n",
    "        return self.current_df, self.forecast_df\n",
    "\n",
    "def calculate_daily_stats(df_forecast):\n",
    "    \n",
    "    # Extract the date from the 'Datetime' column and create a new 'Date' column\n",
    "    df_forecast['Date'] = df_forecast['Datetime'].dt.date\n",
    "\n",
    "    # Group the data by the 'Date' column and calculate the min and max for each group\n",
    "    daily_stats = df_forecast.groupby('Date').agg({\n",
    "        'Temperature (C)': ['min', 'max'],\n",
    "        'Humidity (%)': ['min', 'max'],\n",
    "        'Wind Speed (m/s)': ['min', 'max']\n",
    "    })\n",
    "\n",
    "    # Flatten the MultiIndex columns\n",
    "    daily_stats.columns = ['Min Temperature (C)', 'Max Temperature (C)', \n",
    "                           'Min Humidity (%)', 'Max Humidity (%)', \n",
    "                           'Min Wind Speed (m/s)', 'Max Wind Speed (m/s)']\n",
    "    \n",
    "    # Reset the index to turn the 'Date' back into a column\n",
    "    daily_stats.reset_index(inplace=True)\n",
    "    \n",
    "    return daily_stats\n",
    "\n",
    "def determine_weather(row):\n",
    "    if row['Max Temperature (C)'] > 25:\n",
    "        return 'Sunny'\n",
    "    elif row['Min Temperature (C)'] < 15 and row['Max Humidity (%)'] > 80:\n",
    "        return 'Rainy'\n",
    "    else:\n",
    "        return 'Partly Cloudy'\n",
    "\n",
    "def show(df):\n",
    "    x_ticks = df['Datetime'][::6]\n",
    "\n",
    "    fig, axs = plt.subplots(2, 2, figsize=(14, 10))\n",
    "\n",
    "    # Plot 1: Line plot for Temperature over Time\n",
    "    axs[0, 0].plot(df['Datetime'], df['Temperature (C)'], marker='o')\n",
    "    axs[0, 0].set_title('Temperature over Time')\n",
    "    axs[0, 0].set_xlabel('Datetime')\n",
    "    axs[0, 0].set_ylabel('Temperature (C)')\n",
    "    axs[0, 0].set_xticks(x_ticks)\n",
    "    axs[0, 0].tick_params(axis='x', rotation=45)\n",
    "    max_temp = df['Temperature (C)'].max()\n",
    "    max_temp_time = df.loc[df['Temperature (C)'] == max_temp, 'Datetime'].iloc[0]\n",
    "    axs[0, 0].annotate(f'Max Temp: {max_temp:.2f}C', xy=(max_temp_time, max_temp), \n",
    "                xytext=(max_temp_time, max_temp+2), \n",
    "                arrowprops=dict(facecolor='black', shrink=0.05))\n",
    "    axs[0, 0].grid(True, linestyle='--', linewidth=0.5)\n",
    "\n",
    "    # # Add line of best fit for Temperature over Time\n",
    "    s = np.polyfit(df['Datetime'].astype(np.int64) // 10**9, df['Temperature (C)'], 1)\n",
    "    p = np.poly1d(s)\n",
    "    axs[0, 0].plot(df['Datetime'], p(df['Datetime'].astype(np.int64) // 10**9), \"r--\")\n",
    "\n",
    "    # # Plot 2: Bar plot for Humidity over Time\n",
    "    axs[0, 1].bar(df['Datetime'], df['Humidity (%)'], color='skyblue')\n",
    "    axs[0, 1].set_title('Humidity over Time')\n",
    "    axs[0, 1].set_xlabel('Datetime')\n",
    "    axs[0, 1].set_ylabel('Humidity (%)')\n",
    "    axs[0, 1].set_xticks(x_ticks)\n",
    "    axs[0, 1].tick_params(axis='x', rotation=45)\n",
    "\n",
    "    # # Plot 3: Pie chart for Weather Description\n",
    "    weather_counts = df['Weather'].value_counts()\n",
    "    axs[1, 0].pie(weather_counts, labels=weather_counts.index, autopct='%1.1f%%', startangle=140)\n",
    "    axs[1, 0].set_title('Weather Description Distribution')\n",
    "    axs[1, 0].axis('equal')  # Equal aspect ratio ensures that pie is drawn as a circle.\n",
    "\n",
    "    # # Plot 4: Scatter plot for Temperature vs. Wind Speed\n",
    "    axs[1, 1].scatter(df['Temperature (C)'], df['Wind Speed (m/s)'], c='g', marker='o')\n",
    "    axs[1, 1].set_title('Temperature vs. Wind Speed')\n",
    "    axs[1, 1].set_xlabel('Temperature (C)')\n",
    "    axs[1, 1].set_ylabel('Wind Speed (m/s)')\n",
    "    axs[1, 1].grid(True)\n",
    "\n",
    "    # # Add line of best fit for Temperature vs. Wind Speed\n",
    "    s = np.polyfit(df['Temperature (C)'], df['Wind Speed (m/s)'], 1)\n",
    "    p = np.poly1d(s)\n",
    "    axs[1, 1].plot(df['Temperature (C)'], p(df['Temperature (C)']), \"r--\")\n",
    "\n",
    "    # # Adjust layout\n",
    "    plt.tight_layout()\n",
    "    plt.show()\n",
    "\n",
    "city_dropdown = widgets.Dropdown(\n",
    "    options=['Sydney', 'New York', 'London', 'Beijing'],\n",
    "    value='Sydney',\n",
    "    description='City:'\n",
    ")\n",
    "# display(city_dropdown)\n",
    "output = widgets.Output()\n",
    "display(output)\n",
    "update_button = widgets.Button(\n",
    "    description='Update Weather',\n",
    "    button_style='success'\n",
    ")\n",
    "# display(update_button)\n",
    "output = widgets.Output()\n",
    "# display(output)\n",
    "\n",
    "# Function to update weather data and plots\n",
    "def update_weather(b):\n",
    "    city = city_dropdown.value\n",
    "    api = OpenWeatherAPI('2dd249caf078aec871ab451b46fee0a1')\n",
    "    current_df, daily_df = api.fetch_weather_data(city)\n",
    "    daily_df = calculate_daily_stats(daily_df)\n",
    "    daily_df['Weather'] = daily_df.apply(determine_weather, axis=1)\n",
    "\n",
    "    with output:\n",
    "        output.clear_output()\n",
    "        fig, axs = plt.subplots(1, 2, figsize=(15, 4))\n",
    "        fig.tight_layout(pad=5.0)\n",
    "\n",
    "        # Generate plots\n",
    "        wp.create_forecast_card(axs[0], daily_df.iloc[0]['Date'], daily_df.iloc[0]['Max Temperature (C)'], daily_df.iloc[0]['Min Temperature (C)'], daily_df.iloc[0]['Weather'])\n",
    "        # wp.plot_scatter(hourly_df, 'Temperature (C)', 'Wind Speed (m/s)', axs[1], title=\"Wind Speed vs Temperature\")\n",
    "        wp.plot_min_max(daily_df, 'Date', 'Min Temperature (C)', 'Max Temperature (C)', axs[1], title=\"Daily Min/Max Temperature\")\n",
    "\n",
    "        plt.show()\n",
    "\n",
    "update_button.on_click(update_weather)\n",
    "display(city_dropdown, update_button, output)\n",
    "update_weather(None)"
   ]
  }
 ],
 "metadata": {
  "kernelspec": {
   "display_name": "Python 3",
   "language": "python",
   "name": "python3"
  },
  "language_info": {
   "codemirror_mode": {
    "name": "ipython",
    "version": 3
   },
   "file_extension": ".py",
   "mimetype": "text/x-python",
   "name": "python",
   "nbconvert_exporter": "python",
   "pygments_lexer": "ipython3",
   "version": "3.12.0"
  }
 },
 "nbformat": 4,
 "nbformat_minor": 2
}
